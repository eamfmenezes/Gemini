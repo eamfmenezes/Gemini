{
  "nbformat": 4,
  "nbformat_minor": 0,
  "metadata": {
    "colab": {
      "provenance": [],
      "authorship_tag": "ABX9TyOzQrhqAQXklBrs0rGKelWQ",
      "include_colab_link": true
    },
    "kernelspec": {
      "name": "python3",
      "display_name": "Python 3"
    },
    "language_info": {
      "name": "python"
    }
  },
  "cells": [
    {
      "cell_type": "markdown",
      "metadata": {
        "id": "view-in-github",
        "colab_type": "text"
      },
      "source": [
        "<a href=\"https://colab.research.google.com/github/eamfmenezes/Gemini/blob/main/Untitled1.ipynb\" target=\"_parent\"><img src=\"https://colab.research.google.com/assets/colab-badge.svg\" alt=\"Open In Colab\"/></a>"
      ]
    },
    {
      "cell_type": "markdown",
      "source": [
        "Instalando o SDK do Google"
      ],
      "metadata": {
        "id": "Y13HQp3cwRSk"
      }
    },
    {
      "cell_type": "code",
      "execution_count": 1,
      "metadata": {
        "id": "s_oiO3VgvuL5"
      },
      "outputs": [],
      "source": [
        "!pip install -q -U google-generativeai"
      ]
    },
    {
      "cell_type": "code",
      "source": [
        "# Import the Python SDK\n",
        "import google.generativeai as genai\n",
        "# Used to securely store your API key\n",
        "from google.colab import userdata\n",
        "\n",
        "GOOGLE_API_KEY=userdata.get('GOOGLE_API_KEY')\n",
        "genai.configure(api_key=GOOGLE_API_KEY)"
      ],
      "metadata": {
        "id": "hpq-wJqEv2Bk"
      },
      "execution_count": 2,
      "outputs": []
    },
    {
      "cell_type": "markdown",
      "source": [
        "Listar os modelos disponíveis"
      ],
      "metadata": {
        "id": "_foQQoZawq4B"
      }
    },
    {
      "cell_type": "markdown",
      "source": [
        "Ctrl+espaço para aparecer lista depois de digitar \"genai.\""
      ],
      "metadata": {
        "id": "mFnWErTIxJ9n"
      }
    },
    {
      "cell_type": "markdown",
      "source": [
        "coloca () pq é método"
      ],
      "metadata": {
        "id": "0J2Sy075xWy0"
      }
    },
    {
      "cell_type": "markdown",
      "source": [
        "coloca \":\" pq todo for exige \":\" no final"
      ],
      "metadata": {
        "id": "KNRVjBdOxrAF"
      }
    },
    {
      "cell_type": "code",
      "source": [
        "for m in genai.list_models():\n",
        "  if 'generateContent' in m.supported_generation_methods:\n",
        "    print(m.name)"
      ],
      "metadata": {
        "colab": {
          "base_uri": "https://localhost:8080/",
          "height": 138
        },
        "id": "haxNeCXlwBrJ",
        "outputId": "7982333f-2121-403b-e433-6e9ba8bc416b"
      },
      "execution_count": 4,
      "outputs": [
        {
          "output_type": "stream",
          "name": "stdout",
          "text": [
            "models/gemini-1.0-pro\n",
            "models/gemini-1.0-pro-001\n",
            "models/gemini-1.0-pro-latest\n",
            "models/gemini-1.0-pro-vision-latest\n",
            "models/gemini-1.5-pro-latest\n",
            "models/gemini-pro\n",
            "models/gemini-pro-vision\n"
          ]
        }
      ]
    },
    {
      "cell_type": "markdown",
      "source": [
        "models/gemini-1.0-pro versão estável\n",
        "models/gemini-1.0-pro-001 versão experimental\n",
        "models/gemini-1.0-pro-latest aponta para a última versão experimental\n",
        "models/gemini-1.0-pro-vision-latest\n",
        "models/gemini-1.5-pro-latest\n",
        "models/gemini-pro\n",
        "models/gemini-pro-vision"
      ],
      "metadata": {
        "id": "stNOQy9xy-Wv"
      }
    },
    {
      "cell_type": "markdown",
      "source": [
        "não precisa fazer o códio com a ordem correta dos parâmetros. O google acerta a ordem quando roda"
      ],
      "metadata": {
        "id": "q7easXF-2FUJ"
      }
    },
    {
      "cell_type": "code",
      "source": [
        "fabricio = {\n",
        "    \"candidate_count\": 1,\n",
        "    \"temperature\": 0.5,\n",
        "}"
      ],
      "metadata": {
        "id": "ELl-L_-s2Ch7"
      },
      "execution_count": 8,
      "outputs": []
    },
    {
      "cell_type": "code",
      "source": [
        "safety_settings = {\n",
        "    \"HARASSMENT\": \"BLOCK_NONE\",\n",
        "    \"HATE\": \"BLOCK_NONE\",\n",
        "    \"SEXUAL\": \"BLOCK_NONE\",\n",
        "    \"DANGEROUS\": \"BLOCK_NONE\",\n",
        "}"
      ],
      "metadata": {
        "id": "tRaVhYMa3nOw"
      },
      "execution_count": 7,
      "outputs": []
    },
    {
      "cell_type": "markdown",
      "source": [
        "INICIALIZANDO O MODELO"
      ],
      "metadata": {
        "id": "pmWyEBfT5kZi"
      }
    },
    {
      "cell_type": "markdown",
      "source": [
        "finalmente entendi graças ao fabricio! obrigado!"
      ],
      "metadata": {
        "id": "yMawyfCb7Dws"
      }
    },
    {
      "cell_type": "code",
      "source": [
        "model = genai.GenerativeModel(model_name=\"gemini-1.0-pro\",\n",
        "                              generation_config=fabricio,\n",
        "                              safety_settings=safety_settings)"
      ],
      "metadata": {
        "id": "IiskSqrd5gTG"
      },
      "execution_count": 9,
      "outputs": []
    },
    {
      "cell_type": "code",
      "source": [
        "response = model.generate_content(\"Vamos aprender conteúdo sobre IA. Me dê sugestões\")\n",
        "print(response.text)"
      ],
      "metadata": {
        "colab": {
          "base_uri": "https://localhost:8080/",
          "height": 763
        },
        "id": "xga4WGlH7MnQ",
        "outputId": "411ad868-3605-44ab-eec7-43422d1b6831"
      },
      "execution_count": 10,
      "outputs": [
        {
          "output_type": "stream",
          "name": "stdout",
          "text": [
            "**Conceitos Fundamentais**\n",
            "\n",
            "* O que é Inteligência Artificial (IA)?\n",
            "* Tipos de IA: Fraca, Forte, Geral\n",
            "* Aprendizado de Máquina, Aprendizado Profundo e Redes Neurais\n",
            "* Algoritmos de IA\n",
            "\n",
            "**Aplicações da IA**\n",
            "\n",
            "* Processamento de Linguagem Natural (PNL)\n",
            "* Visão Computacional\n",
            "* Reconhecimento de Padrões\n",
            "* Previsão e Análise Preditiva\n",
            "* Automação de Processos\n",
            "\n",
            "**Ética e Implicações da IA**\n",
            "\n",
            "* Viés e Discriminação na IA\n",
            "* Privacidade e Segurança\n",
            "* Impacto no Emprego e na Sociedade\n",
            "* Regulamentação e Diretrizes Éticas\n",
            "\n",
            "**Técnicas e Ferramentas de IA**\n",
            "\n",
            "* Linguagens de Programação para IA (Python, R, TensorFlow)\n",
            "* Bibliotecas e Frameworks de IA (Scikit-learn, Keras, PyTorch)\n",
            "* Ferramentas de Visualização e Análise de Dados\n",
            "* Plataformas de Computação em Nuvem para IA\n",
            "\n",
            "**Tendências e Avanços da IA**\n",
            "\n",
            "* IA Generativa (GPT-3, DALL-E 2)\n",
            "* IA Quântica\n",
            "* IA Explicável e Interpretável\n",
            "* IA em Cuidados de Saúde, Finanças e Indústria\n",
            "\n",
            "**Recursos de Aprendizagem**\n",
            "\n",
            "* **Cursos Online:** Coursera, edX, Udemy\n",
            "* **Livros:** \"Inteligência Artificial: Uma Abordagem Moderna\", \"Aprendizado de Máquina para Iniciantes\"\n",
            "* **Artigos e Publicações:** MIT Technology Review, IEEE Spectrum, Nature\n",
            "* **Conferências e Eventos:** NeurIPS, ICML, CVPR\n",
            "* **Comunidades Online:** Reddit, Stack Overflow, Kaggle\n"
          ]
        }
      ]
    },
    {
      "cell_type": "markdown",
      "source": [],
      "metadata": {
        "id": "QoqO63Gi8YW8"
      }
    },
    {
      "cell_type": "code",
      "source": [
        "print(response)"
      ],
      "metadata": {
        "colab": {
          "base_uri": "https://localhost:8080/"
        },
        "id": "mNnRK_Te7wQv",
        "outputId": "d3220563-f013-48a8-e247-91b4ff1fe73c"
      },
      "execution_count": 12,
      "outputs": [
        {
          "output_type": "stream",
          "name": "stdout",
          "text": [
            "response:\n",
            "GenerateContentResponse(\n",
            "    done=True,\n",
            "    iterator=None,\n",
            "    result=glm.GenerateContentResponse({'candidates': [{'content': {'parts': [{'text': '**Conceitos Fundamentais**\\n\\n* O que é Inteligência Artificial (IA)?\\n* Tipos de IA: Fraca, Forte, Geral\\n* Aprendizado de Máquina, Aprendizado Profundo e Redes Neurais\\n* Algoritmos de IA\\n\\n**Aplicações da IA**\\n\\n* Processamento de Linguagem Natural (PNL)\\n* Visão Computacional\\n* Reconhecimento de Padrões\\n* Previsão e Análise Preditiva\\n* Automação de Processos\\n\\n**Ética e Implicações da IA**\\n\\n* Viés e Discriminação na IA\\n* Privacidade e Segurança\\n* Impacto no Emprego e na Sociedade\\n* Regulamentação e Diretrizes Éticas\\n\\n**Técnicas e Ferramentas de IA**\\n\\n* Linguagens de Programação para IA (Python, R, TensorFlow)\\n* Bibliotecas e Frameworks de IA (Scikit-learn, Keras, PyTorch)\\n* Ferramentas de Visualização e Análise de Dados\\n* Plataformas de Computação em Nuvem para IA\\n\\n**Tendências e Avanços da IA**\\n\\n* IA Generativa (GPT-3, DALL-E 2)\\n* IA Quântica\\n* IA Explicável e Interpretável\\n* IA em Cuidados de Saúde, Finanças e Indústria\\n\\n**Recursos de Aprendizagem**\\n\\n* **Cursos Online:** Coursera, edX, Udemy\\n* **Livros:** \"Inteligência Artificial: Uma Abordagem Moderna\", \"Aprendizado de Máquina para Iniciantes\"\\n* **Artigos e Publicações:** MIT Technology Review, IEEE Spectrum, Nature\\n* **Conferências e Eventos:** NeurIPS, ICML, CVPR\\n* **Comunidades Online:** Reddit, Stack Overflow, Kaggle'}], 'role': 'model'}, 'finish_reason': 1, 'index': 0, 'safety_ratings': [{'category': 9, 'probability': 1, 'blocked': False}, {'category': 8, 'probability': 1, 'blocked': False}, {'category': 7, 'probability': 1, 'blocked': False}, {'category': 10, 'probability': 1, 'blocked': False}], 'token_count': 0, 'grounding_attributions': []}]}),\n",
            ")\n"
          ]
        }
      ]
    },
    {
      "cell_type": "markdown",
      "source": [
        "[   ] é uma lista vazia\n"
      ],
      "metadata": {
        "id": "bZwhTeGW8fDM"
      }
    },
    {
      "cell_type": "markdown",
      "source": [
        "no caso é vazio pq não tem um histórico que vamos passar para o chat"
      ],
      "metadata": {
        "id": "Dm_6h6Vi803T"
      }
    },
    {
      "cell_type": "code",
      "source": [
        "chat = model.start_chat(history=[])"
      ],
      "metadata": {
        "id": "N9sonwRW8cdh"
      },
      "execution_count": 13,
      "outputs": []
    },
    {
      "cell_type": "markdown",
      "source": [
        "variável prompt vai receber o método input()"
      ],
      "metadata": {
        "id": "obeb7umq9JSr"
      }
    },
    {
      "cell_type": "code",
      "source": [
        "prompt = input(\"esperando prompt: \")\n",
        "\n",
        "while prompt != \"fim\":\n",
        "  response = chat.send_message(prompt)\n",
        "  print(\"Resposta: \", response.text, \"\\n\")\n",
        "  prompt = input(\"Esperando prompt: \")"
      ],
      "metadata": {
        "colab": {
          "base_uri": "https://localhost:8080/",
          "height": 867
        },
        "id": "-TrDL1wu9M56",
        "outputId": "b25c23aa-b888-4643-e0ef-431af0490905"
      },
      "execution_count": 16,
      "outputs": [
        {
          "name": "stdout",
          "output_type": "stream",
          "text": [
            "esperando prompt: qual é capital do japao\n",
            "Resposta:  Tóquio \n",
            "\n",
            "Esperando prompt: qual é a comida tipica desse pais\n",
            "Resposta:  Sushi \n",
            "\n",
            "Esperando prompt: qual é a nacionalidade de quem nasce nesse pais\n",
            "Resposta:  Japonês \n",
            "\n",
            "Esperando prompt: qual a popução dessa cidade\n",
            "Resposta:  37.339.804 (2023) \n",
            "\n",
            "Esperando prompt: a nacionalidade é uma palavra masculina ou feminina\n",
            "Resposta:  Masculina \n",
            "\n",
            "Esperando prompt: justifique\n",
            "Resposta:  A palavra \"nacionalidade\" é um substantivo feminino porque:\n",
            "\n",
            "* Termina em \"-dade\", que é uma terminação típica de substantivos femininos em português.\n",
            "* Refere-se a uma qualidade ou condição abstrata, que geralmente é expressa por substantivos femininos.\n",
            "\n",
            "Por exemplo:\n",
            "\n",
            "* Beleza\n",
            "* Bondade\n",
            "* Felicidade\n",
            "* Liberdade\n",
            "* Nacionalidade\n",
            "\n",
            "Além disso, a palavra \"nacionalidade\" é classificada como feminina em dicionários e gramáticas da língua portuguesa. \n",
            "\n",
            "Esperando prompt: então porque vc disse que é masculina?\n",
            "Resposta:  Peço desculpas pelo meu erro anterior. Eu ainda estou em desenvolvimento e aprendendo a responder às perguntas com precisão.\n",
            "\n",
            "A palavra \"nacionalidade\" é de fato **feminina**, como você corretamente afirmou.\n",
            "\n",
            "**Justificativa:**\n",
            "\n",
            "* Termina em \"-dade\", que é uma terminação típica de substantivos femininos em português.\n",
            "* Refere-se a uma qualidade ou condição abstrata, que geralmente é expressa por substantivos femininos.\n",
            "\n",
            "Portanto, a nacionalidade de quem nasce no Japão é **japonesa**, que é a forma feminina do adjetivo \"japonês\". \n",
            "\n",
            "Esperando prompt: muito bem!\n",
            "Resposta:  Obrigado pelo feedback positivo! Estou feliz em poder ajudá-lo.\n",
            "\n",
            "Se você tiver mais alguma dúvida, sinta-se à vontade para perguntar. Estou aqui para aprender e melhorar minhas respostas. \n",
            "\n",
            "Esperando prompt: fim\n"
          ]
        }
      ]
    },
    {
      "cell_type": "code",
      "source": [
        "chat.history"
      ],
      "metadata": {
        "colab": {
          "base_uri": "https://localhost:8080/"
        },
        "id": "TpqOhQwbDApR",
        "outputId": "1865d92c-42eb-43ce-9ad2-be3c6669ed90"
      },
      "execution_count": 17,
      "outputs": [
        {
          "output_type": "execute_result",
          "data": {
            "text/plain": [
              "[parts {\n",
              "   text: \"qual \\303\\251 capital do japao\"\n",
              " }\n",
              " role: \"user\",\n",
              " parts {\n",
              "   text: \"T\\303\\263quio\"\n",
              " }\n",
              " role: \"model\",\n",
              " parts {\n",
              "   text: \"qual \\303\\251 a comida tipica desse pais\"\n",
              " }\n",
              " role: \"user\",\n",
              " parts {\n",
              "   text: \"Sushi\"\n",
              " }\n",
              " role: \"model\",\n",
              " parts {\n",
              "   text: \"qual \\303\\251 a nacionalidade de quem nasce nesse pais\"\n",
              " }\n",
              " role: \"user\",\n",
              " parts {\n",
              "   text: \"Japon\\303\\252s\"\n",
              " }\n",
              " role: \"model\",\n",
              " parts {\n",
              "   text: \"qual a popu\\303\\247\\303\\243o dessa cidade\"\n",
              " }\n",
              " role: \"user\",\n",
              " parts {\n",
              "   text: \"37.339.804 (2023)\"\n",
              " }\n",
              " role: \"model\",\n",
              " parts {\n",
              "   text: \"a nacionalidade \\303\\251 uma palavra masculina ou feminina\"\n",
              " }\n",
              " role: \"user\",\n",
              " parts {\n",
              "   text: \"Masculina\"\n",
              " }\n",
              " role: \"model\",\n",
              " parts {\n",
              "   text: \"justifique\"\n",
              " }\n",
              " role: \"user\",\n",
              " parts {\n",
              "   text: \"A palavra \\\"nacionalidade\\\" \\303\\251 um substantivo feminino porque:\\n\\n* Termina em \\\"-dade\\\", que \\303\\251 uma termina\\303\\247\\303\\243o t\\303\\255pica de substantivos femininos em portugu\\303\\252s.\\n* Refere-se a uma qualidade ou condi\\303\\247\\303\\243o abstrata, que geralmente \\303\\251 expressa por substantivos femininos.\\n\\nPor exemplo:\\n\\n* Beleza\\n* Bondade\\n* Felicidade\\n* Liberdade\\n* Nacionalidade\\n\\nAl\\303\\251m disso, a palavra \\\"nacionalidade\\\" \\303\\251 classificada como feminina em dicion\\303\\241rios e gram\\303\\241ticas da l\\303\\255ngua portuguesa.\"\n",
              " }\n",
              " role: \"model\",\n",
              " parts {\n",
              "   text: \"ent\\303\\243o porque vc disse que \\303\\251 masculina?\"\n",
              " }\n",
              " role: \"user\",\n",
              " parts {\n",
              "   text: \"Pe\\303\\247o desculpas pelo meu erro anterior. Eu ainda estou em desenvolvimento e aprendendo a responder \\303\\240s perguntas com precis\\303\\243o.\\n\\nA palavra \\\"nacionalidade\\\" \\303\\251 de fato **feminina**, como voc\\303\\252 corretamente afirmou.\\n\\n**Justificativa:**\\n\\n* Termina em \\\"-dade\\\", que \\303\\251 uma termina\\303\\247\\303\\243o t\\303\\255pica de substantivos femininos em portugu\\303\\252s.\\n* Refere-se a uma qualidade ou condi\\303\\247\\303\\243o abstrata, que geralmente \\303\\251 expressa por substantivos femininos.\\n\\nPortanto, a nacionalidade de quem nasce no Jap\\303\\243o \\303\\251 **japonesa**, que \\303\\251 a forma feminina do adjetivo \\\"japon\\303\\252s\\\".\"\n",
              " }\n",
              " role: \"model\",\n",
              " parts {\n",
              "   text: \"muito bem!\"\n",
              " }\n",
              " role: \"user\",\n",
              " parts {\n",
              "   text: \"Obrigado pelo feedback positivo! Estou feliz em poder ajud\\303\\241-lo.\\n\\nSe voc\\303\\252 tiver mais alguma d\\303\\272vida, sinta-se \\303\\240 vontade para perguntar. Estou aqui para aprender e melhorar minhas respostas.\"\n",
              " }\n",
              " role: \"model\"]"
            ]
          },
          "metadata": {},
          "execution_count": 17
        }
      ]
    },
    {
      "cell_type": "code",
      "source": [
        "#Melhorando a visualização\n",
        "#Código disponível em https://ai.google.dev/tutorials/python_quickstart#import_packages\n",
        "import textwrap\n",
        "from IPython.display import display\n",
        "from IPython.display import Markdown\n",
        "\n",
        "def to_markdown(text):\n",
        "  text = text.replace('•', '  *')\n",
        "  return Markdown(textwrap.indent(text, '> ', predicate=lambda _: True))\n",
        "\n",
        "#Imprimindo o histórico\n",
        "for message in chat.history:\n",
        "  display(to_markdown(f'**{message.role}**: {message.parts[0].text}'))\n",
        "  print('-------------------------------------------')"
      ],
      "metadata": {
        "colab": {
          "base_uri": "https://localhost:8080/",
          "height": 1000
        },
        "id": "JF2NCC-0HJ7O",
        "outputId": "b8c85fe7-0b54-4a24-d681-0a8b2556bca8"
      },
      "execution_count": 18,
      "outputs": [
        {
          "output_type": "display_data",
          "data": {
            "text/plain": [
              "<IPython.core.display.Markdown object>"
            ],
            "text/markdown": "> **user**: qual é capital do japao"
          },
          "metadata": {}
        },
        {
          "output_type": "stream",
          "name": "stdout",
          "text": [
            "-------------------------------------------\n"
          ]
        },
        {
          "output_type": "display_data",
          "data": {
            "text/plain": [
              "<IPython.core.display.Markdown object>"
            ],
            "text/markdown": "> **model**: Tóquio"
          },
          "metadata": {}
        },
        {
          "output_type": "stream",
          "name": "stdout",
          "text": [
            "-------------------------------------------\n"
          ]
        },
        {
          "output_type": "display_data",
          "data": {
            "text/plain": [
              "<IPython.core.display.Markdown object>"
            ],
            "text/markdown": "> **user**: qual é a comida tipica desse pais"
          },
          "metadata": {}
        },
        {
          "output_type": "stream",
          "name": "stdout",
          "text": [
            "-------------------------------------------\n"
          ]
        },
        {
          "output_type": "display_data",
          "data": {
            "text/plain": [
              "<IPython.core.display.Markdown object>"
            ],
            "text/markdown": "> **model**: Sushi"
          },
          "metadata": {}
        },
        {
          "output_type": "stream",
          "name": "stdout",
          "text": [
            "-------------------------------------------\n"
          ]
        },
        {
          "output_type": "display_data",
          "data": {
            "text/plain": [
              "<IPython.core.display.Markdown object>"
            ],
            "text/markdown": "> **user**: qual é a nacionalidade de quem nasce nesse pais"
          },
          "metadata": {}
        },
        {
          "output_type": "stream",
          "name": "stdout",
          "text": [
            "-------------------------------------------\n"
          ]
        },
        {
          "output_type": "display_data",
          "data": {
            "text/plain": [
              "<IPython.core.display.Markdown object>"
            ],
            "text/markdown": "> **model**: Japonês"
          },
          "metadata": {}
        },
        {
          "output_type": "stream",
          "name": "stdout",
          "text": [
            "-------------------------------------------\n"
          ]
        },
        {
          "output_type": "display_data",
          "data": {
            "text/plain": [
              "<IPython.core.display.Markdown object>"
            ],
            "text/markdown": "> **user**: qual a popução dessa cidade"
          },
          "metadata": {}
        },
        {
          "output_type": "stream",
          "name": "stdout",
          "text": [
            "-------------------------------------------\n"
          ]
        },
        {
          "output_type": "display_data",
          "data": {
            "text/plain": [
              "<IPython.core.display.Markdown object>"
            ],
            "text/markdown": "> **model**: 37.339.804 (2023)"
          },
          "metadata": {}
        },
        {
          "output_type": "stream",
          "name": "stdout",
          "text": [
            "-------------------------------------------\n"
          ]
        },
        {
          "output_type": "display_data",
          "data": {
            "text/plain": [
              "<IPython.core.display.Markdown object>"
            ],
            "text/markdown": "> **user**: a nacionalidade é uma palavra masculina ou feminina"
          },
          "metadata": {}
        },
        {
          "output_type": "stream",
          "name": "stdout",
          "text": [
            "-------------------------------------------\n"
          ]
        },
        {
          "output_type": "display_data",
          "data": {
            "text/plain": [
              "<IPython.core.display.Markdown object>"
            ],
            "text/markdown": "> **model**: Masculina"
          },
          "metadata": {}
        },
        {
          "output_type": "stream",
          "name": "stdout",
          "text": [
            "-------------------------------------------\n"
          ]
        },
        {
          "output_type": "display_data",
          "data": {
            "text/plain": [
              "<IPython.core.display.Markdown object>"
            ],
            "text/markdown": "> **user**: justifique"
          },
          "metadata": {}
        },
        {
          "output_type": "stream",
          "name": "stdout",
          "text": [
            "-------------------------------------------\n"
          ]
        },
        {
          "output_type": "display_data",
          "data": {
            "text/plain": [
              "<IPython.core.display.Markdown object>"
            ],
            "text/markdown": "> **model**: A palavra \"nacionalidade\" é um substantivo feminino porque:\n> \n> * Termina em \"-dade\", que é uma terminação típica de substantivos femininos em português.\n> * Refere-se a uma qualidade ou condição abstrata, que geralmente é expressa por substantivos femininos.\n> \n> Por exemplo:\n> \n> * Beleza\n> * Bondade\n> * Felicidade\n> * Liberdade\n> * Nacionalidade\n> \n> Além disso, a palavra \"nacionalidade\" é classificada como feminina em dicionários e gramáticas da língua portuguesa."
          },
          "metadata": {}
        },
        {
          "output_type": "stream",
          "name": "stdout",
          "text": [
            "-------------------------------------------\n"
          ]
        },
        {
          "output_type": "display_data",
          "data": {
            "text/plain": [
              "<IPython.core.display.Markdown object>"
            ],
            "text/markdown": "> **user**: então porque vc disse que é masculina?"
          },
          "metadata": {}
        },
        {
          "output_type": "stream",
          "name": "stdout",
          "text": [
            "-------------------------------------------\n"
          ]
        },
        {
          "output_type": "display_data",
          "data": {
            "text/plain": [
              "<IPython.core.display.Markdown object>"
            ],
            "text/markdown": "> **model**: Peço desculpas pelo meu erro anterior. Eu ainda estou em desenvolvimento e aprendendo a responder às perguntas com precisão.\n> \n> A palavra \"nacionalidade\" é de fato **feminina**, como você corretamente afirmou.\n> \n> **Justificativa:**\n> \n> * Termina em \"-dade\", que é uma terminação típica de substantivos femininos em português.\n> * Refere-se a uma qualidade ou condição abstrata, que geralmente é expressa por substantivos femininos.\n> \n> Portanto, a nacionalidade de quem nasce no Japão é **japonesa**, que é a forma feminina do adjetivo \"japonês\"."
          },
          "metadata": {}
        },
        {
          "output_type": "stream",
          "name": "stdout",
          "text": [
            "-------------------------------------------\n"
          ]
        },
        {
          "output_type": "display_data",
          "data": {
            "text/plain": [
              "<IPython.core.display.Markdown object>"
            ],
            "text/markdown": "> **user**: muito bem!"
          },
          "metadata": {}
        },
        {
          "output_type": "stream",
          "name": "stdout",
          "text": [
            "-------------------------------------------\n"
          ]
        },
        {
          "output_type": "display_data",
          "data": {
            "text/plain": [
              "<IPython.core.display.Markdown object>"
            ],
            "text/markdown": "> **model**: Obrigado pelo feedback positivo! Estou feliz em poder ajudá-lo.\n> \n> Se você tiver mais alguma dúvida, sinta-se à vontade para perguntar. Estou aqui para aprender e melhorar minhas respostas."
          },
          "metadata": {}
        },
        {
          "output_type": "stream",
          "name": "stdout",
          "text": [
            "-------------------------------------------\n"
          ]
        }
      ]
    }
  ]
}